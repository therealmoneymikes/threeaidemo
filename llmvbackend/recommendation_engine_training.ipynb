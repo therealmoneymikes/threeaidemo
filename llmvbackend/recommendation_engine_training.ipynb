{
 "cells": [
  {
   "cell_type": "code",
   "execution_count": 315,
   "metadata": {},
   "outputs": [],
   "source": [
    "import pandas as pd\n",
    "import numpy as np\n",
    "from mlxtend.frequent_patterns import association_rules, apriori"
   ]
  },
  {
   "cell_type": "code",
   "execution_count": null,
   "metadata": {},
   "outputs": [],
   "source": [
    "sales_data = pd.read_csv(\"datasets/sales_data.csv\")\n",
    "sales_data.head()"
   ]
  },
  {
   "cell_type": "code",
   "execution_count": null,
   "metadata": {},
   "outputs": [],
   "source": [
    "product = pd.read_csv(\"datasets/products.csv\")\n",
    "product.head()"
   ]
  },
  {
   "cell_type": "markdown",
   "metadata": {},
   "source": [
    "# Data Wrangling\n",
    "\n",
    "# Merge Data"
   ]
  },
  {
   "cell_type": "code",
   "execution_count": null,
   "metadata": {},
   "outputs": [],
   "source": [
    "sales_receipts_data = sales_data[[\"transaction_id\", \"transaction_date\", \"quantity\", \"customer_id\", \"product_id\", \"sales_outlet_id\"]]\n",
    "products_data = product[[\"product_id\", \"product_category\", \"product\"]]\n",
    "\n",
    "merged_dataset = pd.merge(sales_receipts_data, products_data, on=\"product_id\", how=\"left\")\n",
    "merged_dataset.head()"
   ]
  },
  {
   "cell_type": "code",
   "execution_count": null,
   "metadata": {},
   "outputs": [],
   "source": [
    "##Remove sizes\n",
    "\n",
    "merged_dataset[merged_dataset[\"product\"].str.contains(\"Dark chocolate\")]['product'].unique()"
   ]
  },
  {
   "cell_type": "code",
   "execution_count": null,
   "metadata": {},
   "outputs": [],
   "source": [
    "merged_dataset[\"product\"].nunique() \n"
   ]
  },
  {
   "cell_type": "code",
   "execution_count": 321,
   "metadata": {},
   "outputs": [],
   "source": [
    "merged_dataset[\"product\"] = merged_dataset[\"product\"].str.replace(\"Rg\", \"\")\n",
    "merged_dataset[\"product\"] = merged_dataset[\"product\"].str.replace(\"Sm\", \"\")\n",
    "merged_dataset[\"product\"] = merged_dataset[\"product\"].str.replace(\"Lg\", \"\")\n"
   ]
  },
  {
   "cell_type": "code",
   "execution_count": null,
   "metadata": {},
   "outputs": [],
   "source": [
    "print(merged_dataset[\"product\"].unique())"
   ]
  },
  {
   "cell_type": "code",
   "execution_count": null,
   "metadata": {},
   "outputs": [],
   "source": [
    "merged_dataset[\"product\"].nunique()"
   ]
  },
  {
   "cell_type": "markdown",
   "metadata": {},
   "source": [
    "# Choose Product Subset"
   ]
  },
  {
   "cell_type": "code",
   "execution_count": 324,
   "metadata": {},
   "outputs": [],
   "source": [
    "products_to_take = ['Cappuccino', 'Latte', 'Espresso shot',  \\\n",
    "                     'Dark chocolate','Sugar Free Vanilla syrup', 'Chocolate syrup',\\\n",
    "                    'Carmel syrup', 'Hazelnut syrup', 'Ginger Scone',  \\\n",
    "                    'Chocolate Croissant', 'Jumbo Savory Scone', 'Cranberry Scone', 'Hazelnut Biscotti',\\\n",
    "                    'Croissant', 'Almond Croissant', 'Oatmeal Scone', 'Chocolate Chip Biscotti',\\\n",
    "                    'Ginger Biscotti',\\\n",
    "                   ]"
   ]
  },
  {
   "cell_type": "code",
   "execution_count": 325,
   "metadata": {},
   "outputs": [],
   "source": [
    "merged_dataset = merged_dataset[merged_dataset['product'].isin(products_to_take)]"
   ]
  },
  {
   "cell_type": "code",
   "execution_count": null,
   "metadata": {},
   "outputs": [],
   "source": [
    "merged_dataset[\"product\"].nunique()"
   ]
  },
  {
   "cell_type": "code",
   "execution_count": null,
   "metadata": {},
   "outputs": [],
   "source": [
    "merged_dataset[['product','product_category']].drop_duplicates().reset_index(drop=True)"
   ]
  },
  {
   "cell_type": "markdown",
   "metadata": {},
   "source": [
    "# Clean Transactions\n"
   ]
  },
  {
   "cell_type": "code",
   "execution_count": 328,
   "metadata": {},
   "outputs": [],
   "source": [
    "merged_dataset[\"transaction\"] = merged_dataset[\"transaction_id\"].astype(str) +\"_\"+ merged_dataset['customer_id'].astype(str)\n",
    "##Pushing this firebase and rag db\n",
    "\n"
   ]
  },
  {
   "cell_type": "code",
   "execution_count": 329,
   "metadata": {},
   "outputs": [],
   "source": [
    "num_of_items_for_each_transaction = merged_dataset['transaction'].value_counts().reset_index() # grab the number of transaction for the lift calculation\n",
    "num_of_items_for_each_transaction.head()\n",
    "valid_transactions = num_of_items_for_each_transaction[(num_of_items_for_each_transaction['count']>1)]['transaction'].tolist()\n",
    "##Exclude items with 1 item only because we can't calculate the role \n",
    "merged_dataset = merged_dataset[merged_dataset['transaction'].isin(valid_transactions)]"
   ]
  },
  {
   "cell_type": "code",
   "execution_count": null,
   "metadata": {},
   "outputs": [],
   "source": [
    "merged_dataset.shape"
   ]
  },
  {
   "cell_type": "code",
   "execution_count": null,
   "metadata": {},
   "outputs": [],
   "source": [
    "merged_dataset.head()"
   ]
  },
  {
   "cell_type": "markdown",
   "metadata": {},
   "source": [
    "# Product Trends"
   ]
  },
  {
   "cell_type": "code",
   "execution_count": null,
   "metadata": {},
   "outputs": [],
   "source": [
    "merged_dataset[\"product_category\"].value_counts()\n",
    "merged_dataset[\"product\"].value_counts()\n",
    "\n"
   ]
  },
  {
   "cell_type": "markdown",
   "metadata": {},
   "source": [
    "# Popularity Recommendation Engine"
   ]
  },
  {
   "cell_type": "code",
   "execution_count": 333,
   "metadata": {},
   "outputs": [],
   "source": [
    "product_recommendation = merged_dataset.groupby([\"product\", \"product_category\"]).count().reset_index()\n"
   ]
  },
  {
   "cell_type": "code",
   "execution_count": 334,
   "metadata": {},
   "outputs": [],
   "source": [
    "product_recommendation = product_recommendation[[\"product\", \"product_category\", \"transaction_id\"]]\n",
    "product_recommendation = product_recommendation.rename(columns={\"transaction_id\": \"number_of_transactions\"})"
   ]
  },
  {
   "cell_type": "code",
   "execution_count": null,
   "metadata": {},
   "outputs": [],
   "source": [
    "product_recommendation.to_csv('api/recommendation_objects/')\n",
    "product_recommendation.head()"
   ]
  },
  {
   "cell_type": "code",
   "execution_count": 336,
   "metadata": {},
   "outputs": [],
   "source": [
    "product_recommendation.to_csv('api/recommendation_objects/popularity_recommendation.csv', index=False) #Export to CSV\n"
   ]
  },
  {
   "cell_type": "markdown",
   "metadata": {},
   "source": [
    "# Apriori Recommendation Engine - Lifts"
   ]
  },
  {
   "cell_type": "code",
   "execution_count": null,
   "metadata": {},
   "outputs": [],
   "source": [
    "train_shopping_basket = (merged_dataset.groupby(['transaction', 'product'])['product'].count().reset_index(name='Count')) #groupby by transaction and by product -> count and reset the index \n",
    "#count how many times product shows in a transaction\n",
    "train_shopping_basket.head()\n"
   ]
  },
  {
   "cell_type": "code",
   "execution_count": null,
   "metadata": {},
   "outputs": [],
   "source": [
    "#Long format in data wrangling\n",
    "\n",
    "my_basket = train_shopping_basket.pivot_table(index=\"transaction\",  columns=\"product\", values=\"Count\").fillna(0) # 1 0 0 0 1\n",
    "my_basket.head()"
   ]
  },
  {
   "cell_type": "code",
   "execution_count": null,
   "metadata": {},
   "outputs": [],
   "source": [
    "def encode_units_to_longform(x):\n",
    "    if x <=0:\n",
    "        return 0\n",
    "    \n",
    "    if x >0 :\n",
    "        return 1\n",
    "    \n",
    "my_basket_sets = my_basket.applymap(encode_units_to_longform) # apply to all cels\n",
    "my_basket_sets.head(20)"
   ]
  },
  {
   "cell_type": "code",
   "execution_count": null,
   "metadata": {},
   "outputs": [],
   "source": [
    "frequent_items = apriori(my_basket_sets, min_support=0.05, use_colnames=True)\n",
    "frequent_items.head() # Support min 0.05, \n",
    "#Association rule "
   ]
  },
  {
   "cell_type": "code",
   "execution_count": null,
   "metadata": {},
   "outputs": [],
   "source": [
    "print(frequent_items)\n",
    "rules_basket = association_rules(frequent_items, metric=\"lift\", min_threshold=1, num_itemsets=len(frequent_items.index))\n",
    "##Antecendets and Consequents\n",
    "rules_basket.head()"
   ]
  },
  {
   "cell_type": "code",
   "execution_count": 343,
   "metadata": {},
   "outputs": [],
   "source": [
    "# Save Rules Basket\n",
    "rules_basket.to_pickle('rules_basket.pkl')"
   ]
  },
  {
   "cell_type": "code",
   "execution_count": 344,
   "metadata": {},
   "outputs": [
    {
     "data": {
      "text/html": [
       "<div>\n",
       "<style scoped>\n",
       "    .dataframe tbody tr th:only-of-type {\n",
       "        vertical-align: middle;\n",
       "    }\n",
       "\n",
       "    .dataframe tbody tr th {\n",
       "        vertical-align: top;\n",
       "    }\n",
       "\n",
       "    .dataframe thead th {\n",
       "        text-align: right;\n",
       "    }\n",
       "</style>\n",
       "<table border=\"1\" class=\"dataframe\">\n",
       "  <thead>\n",
       "    <tr style=\"text-align: right;\">\n",
       "      <th></th>\n",
       "      <th>antecedents</th>\n",
       "      <th>consequents</th>\n",
       "      <th>antecedent support</th>\n",
       "      <th>consequent support</th>\n",
       "      <th>support</th>\n",
       "      <th>confidence</th>\n",
       "      <th>lift</th>\n",
       "      <th>representativity</th>\n",
       "      <th>leverage</th>\n",
       "      <th>conviction</th>\n",
       "      <th>zhangs_metric</th>\n",
       "      <th>jaccard</th>\n",
       "      <th>certainty</th>\n",
       "      <th>kulczynski</th>\n",
       "    </tr>\n",
       "  </thead>\n",
       "  <tbody>\n",
       "    <tr>\n",
       "      <th>26</th>\n",
       "      <td>(Latte)</td>\n",
       "      <td>(Sugar Free Vanilla syrup)</td>\n",
       "      <td>0.281346</td>\n",
       "      <td>0.231906</td>\n",
       "      <td>0.085627</td>\n",
       "      <td>0.304348</td>\n",
       "      <td>1.312375</td>\n",
       "      <td>1.0</td>\n",
       "      <td>0.020381</td>\n",
       "      <td>1.104135</td>\n",
       "      <td>0.331206</td>\n",
       "      <td>0.200238</td>\n",
       "      <td>0.094313</td>\n",
       "      <td>0.336789</td>\n",
       "    </tr>\n",
       "    <tr>\n",
       "      <th>10</th>\n",
       "      <td>(Latte)</td>\n",
       "      <td>(Carmel syrup)</td>\n",
       "      <td>0.281346</td>\n",
       "      <td>0.219674</td>\n",
       "      <td>0.082569</td>\n",
       "      <td>0.293478</td>\n",
       "      <td>1.335973</td>\n",
       "      <td>1.0</td>\n",
       "      <td>0.020765</td>\n",
       "      <td>1.104462</td>\n",
       "      <td>0.349934</td>\n",
       "      <td>0.197320</td>\n",
       "      <td>0.094582</td>\n",
       "      <td>0.334674</td>\n",
       "    </tr>\n",
       "    <tr>\n",
       "      <th>17</th>\n",
       "      <td>(Latte)</td>\n",
       "      <td>(Chocolate syrup)</td>\n",
       "      <td>0.281346</td>\n",
       "      <td>0.223242</td>\n",
       "      <td>0.074924</td>\n",
       "      <td>0.266304</td>\n",
       "      <td>1.192898</td>\n",
       "      <td>1.0</td>\n",
       "      <td>0.012116</td>\n",
       "      <td>1.058693</td>\n",
       "      <td>0.225011</td>\n",
       "      <td>0.174377</td>\n",
       "      <td>0.055439</td>\n",
       "      <td>0.300960</td>\n",
       "    </tr>\n",
       "    <tr>\n",
       "      <th>24</th>\n",
       "      <td>(Latte)</td>\n",
       "      <td>(Hazelnut syrup)</td>\n",
       "      <td>0.281346</td>\n",
       "      <td>0.199796</td>\n",
       "      <td>0.073904</td>\n",
       "      <td>0.262681</td>\n",
       "      <td>1.314746</td>\n",
       "      <td>1.0</td>\n",
       "      <td>0.017692</td>\n",
       "      <td>1.085289</td>\n",
       "      <td>0.333118</td>\n",
       "      <td>0.181477</td>\n",
       "      <td>0.078586</td>\n",
       "      <td>0.316290</td>\n",
       "    </tr>\n",
       "    <tr>\n",
       "      <th>13</th>\n",
       "      <td>(Latte)</td>\n",
       "      <td>(Chocolate Croissant)</td>\n",
       "      <td>0.281346</td>\n",
       "      <td>0.165138</td>\n",
       "      <td>0.051988</td>\n",
       "      <td>0.184783</td>\n",
       "      <td>1.118961</td>\n",
       "      <td>1.0</td>\n",
       "      <td>0.005527</td>\n",
       "      <td>1.024098</td>\n",
       "      <td>0.147935</td>\n",
       "      <td>0.131783</td>\n",
       "      <td>0.023531</td>\n",
       "      <td>0.249799</td>\n",
       "    </tr>\n",
       "    <tr>\n",
       "      <th>18</th>\n",
       "      <td>(Latte)</td>\n",
       "      <td>(Croissant)</td>\n",
       "      <td>0.281346</td>\n",
       "      <td>0.141182</td>\n",
       "      <td>0.050459</td>\n",
       "      <td>0.179348</td>\n",
       "      <td>1.270326</td>\n",
       "      <td>1.0</td>\n",
       "      <td>0.010738</td>\n",
       "      <td>1.046506</td>\n",
       "      <td>0.296110</td>\n",
       "      <td>0.135616</td>\n",
       "      <td>0.044439</td>\n",
       "      <td>0.268374</td>\n",
       "    </tr>\n",
       "  </tbody>\n",
       "</table>\n",
       "</div>"
      ],
      "text/plain": [
       "   antecedents                 consequents  antecedent support  \\\n",
       "26     (Latte)  (Sugar Free Vanilla syrup)            0.281346   \n",
       "10     (Latte)              (Carmel syrup)            0.281346   \n",
       "17     (Latte)           (Chocolate syrup)            0.281346   \n",
       "24     (Latte)            (Hazelnut syrup)            0.281346   \n",
       "13     (Latte)       (Chocolate Croissant)            0.281346   \n",
       "18     (Latte)                 (Croissant)            0.281346   \n",
       "\n",
       "    consequent support   support  confidence      lift  representativity  \\\n",
       "26            0.231906  0.085627    0.304348  1.312375               1.0   \n",
       "10            0.219674  0.082569    0.293478  1.335973               1.0   \n",
       "17            0.223242  0.074924    0.266304  1.192898               1.0   \n",
       "24            0.199796  0.073904    0.262681  1.314746               1.0   \n",
       "13            0.165138  0.051988    0.184783  1.118961               1.0   \n",
       "18            0.141182  0.050459    0.179348  1.270326               1.0   \n",
       "\n",
       "    leverage  conviction  zhangs_metric   jaccard  certainty  kulczynski  \n",
       "26  0.020381    1.104135       0.331206  0.200238   0.094313    0.336789  \n",
       "10  0.020765    1.104462       0.349934  0.197320   0.094582    0.334674  \n",
       "17  0.012116    1.058693       0.225011  0.174377   0.055439    0.300960  \n",
       "24  0.017692    1.085289       0.333118  0.181477   0.078586    0.316290  \n",
       "13  0.005527    1.024098       0.147935  0.131783   0.023531    0.249799  \n",
       "18  0.010738    1.046506       0.296110  0.135616   0.044439    0.268374  "
      ]
     },
     "execution_count": 344,
     "metadata": {},
     "output_type": "execute_result"
    }
   ],
   "source": [
    "rules_basket[rules_basket['antecedents']=={\"Latte\"}].sort_values('confidence', ascending=False)"
   ]
  },
  {
   "cell_type": "markdown",
   "metadata": {},
   "source": [
    "# JSON Format"
   ]
  },
  {
   "cell_type": "code",
   "execution_count": null,
   "metadata": {},
   "outputs": [],
   "source": [
    "product_categories = merged_dataset[['product','product_category']].drop_duplicates().set_index('product').to_dict()['product_category']"
   ]
  },
  {
   "cell_type": "code",
   "execution_count": null,
   "metadata": {},
   "outputs": [],
   "source": [
    "recommendations_json = {}\n",
    "\n",
    "antecedents = rules_basket['antecedents'].unique()\n",
    "for antecedent in antecedents:\n",
    "    df_rec = rules_basket[rules_basket['antecedents']==antecedent]\n",
    "    df_rec = df_rec.sort_values('confidence',ascending=False)\n",
    "    key = \"_\".join(antecedent)\n",
    "    recommendations_json[key] = []\n",
    "    for _, row in df_rec.iterrows():\n",
    "        rec_objects =row['consequents']\n",
    "        for rec_object in rec_objects:\n",
    "            already_exists = False\n",
    "            for current_rec_object in recommendations_json[key]:\n",
    "                if rec_object == current_rec_object['product']:\n",
    "                    already_exists=True\n",
    "            if already_exists:\n",
    "                continuex\n",
    "            rec = {'product':rec_object, \n",
    "                   'product_category':product_categories[rec_object],\n",
    "                   'confidence': row['confidence']\n",
    "                  }\n",
    "            recommendations_json[key].append(rec)"
   ]
  },
  {
   "cell_type": "code",
   "execution_count": null,
   "metadata": {},
   "outputs": [],
   "source": [
    "\n",
    "import json\n",
    "with open('api/recommendation_objects/apriori_recommendations.json', 'w') as json_file:\n",
    "    json.dump(recommendations_json, json_file)"
   ]
  }
 ],
 "metadata": {
  "kernelspec": {
   "display_name": "Python 3",
   "language": "python",
   "name": "python3"
  },
  "language_info": {
   "codemirror_mode": {
    "name": "ipython",
    "version": 3
   },
   "file_extension": ".py",
   "mimetype": "text/x-python",
   "name": "python",
   "nbconvert_exporter": "python",
   "pygments_lexer": "ipython3",
   "version": "3.12.3"
  }
 },
 "nbformat": 4,
 "nbformat_minor": 2
}
